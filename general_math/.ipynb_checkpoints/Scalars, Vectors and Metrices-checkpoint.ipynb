{
 "cells": [
  {
   "cell_type": "markdown",
   "id": "3694a52f",
   "metadata": {},
   "source": [
    "### Import the relevant libraries"
   ]
  },
  {
   "cell_type": "code",
   "execution_count": 1,
   "id": "715d0c71",
   "metadata": {},
   "outputs": [],
   "source": [
    "import numpy as np"
   ]
  },
  {
   "cell_type": "markdown",
   "id": "20b9be0c",
   "metadata": {},
   "source": [
    "### Declaring Scalar, Vector and Metrices"
   ]
  },
  {
   "cell_type": "markdown",
   "id": "b22a851a",
   "metadata": {},
   "source": [
    "### Scalars"
   ]
  },
  {
   "cell_type": "code",
   "execution_count": 2,
   "id": "34908308",
   "metadata": {},
   "outputs": [],
   "source": [
    "s = 5"
   ]
  },
  {
   "cell_type": "code",
   "execution_count": 3,
   "id": "6cb6c341",
   "metadata": {},
   "outputs": [
    {
     "data": {
      "text/plain": [
       "5"
      ]
     },
     "execution_count": 3,
     "metadata": {},
     "output_type": "execute_result"
    }
   ],
   "source": [
    "s"
   ]
  },
  {
   "cell_type": "markdown",
   "id": "87d33ff3",
   "metadata": {},
   "source": [
    "### Vectors"
   ]
  },
  {
   "cell_type": "code",
   "execution_count": 4,
   "id": "735e3823",
   "metadata": {},
   "outputs": [],
   "source": [
    "v = np.array([10,-3,7])"
   ]
  },
  {
   "cell_type": "code",
   "execution_count": 5,
   "id": "02220c3f",
   "metadata": {},
   "outputs": [
    {
     "data": {
      "text/plain": [
       "array([10, -3,  7])"
      ]
     },
     "execution_count": 5,
     "metadata": {},
     "output_type": "execute_result"
    }
   ],
   "source": [
    "v"
   ]
  },
  {
   "cell_type": "markdown",
   "id": "098bfaac",
   "metadata": {},
   "source": [
    "### Metrices"
   ]
  },
  {
   "cell_type": "code",
   "execution_count": 6,
   "id": "72920279",
   "metadata": {},
   "outputs": [],
   "source": [
    "m = np.array([[4,56,23],[10,-3,7]])"
   ]
  },
  {
   "cell_type": "code",
   "execution_count": 7,
   "id": "b86f9fc7",
   "metadata": {},
   "outputs": [
    {
     "data": {
      "text/plain": [
       "array([[ 4, 56, 23],\n",
       "       [10, -3,  7]])"
      ]
     },
     "execution_count": 7,
     "metadata": {},
     "output_type": "execute_result"
    }
   ],
   "source": [
    "m"
   ]
  },
  {
   "cell_type": "markdown",
   "id": "fb32cd57",
   "metadata": {},
   "source": [
    "### Data types"
   ]
  },
  {
   "cell_type": "code",
   "execution_count": 8,
   "id": "084a5497",
   "metadata": {},
   "outputs": [
    {
     "data": {
      "text/plain": [
       "int"
      ]
     },
     "execution_count": 8,
     "metadata": {},
     "output_type": "execute_result"
    }
   ],
   "source": [
    "type(s)"
   ]
  },
  {
   "cell_type": "code",
   "execution_count": 9,
   "id": "b0642259",
   "metadata": {},
   "outputs": [
    {
     "data": {
      "text/plain": [
       "numpy.ndarray"
      ]
     },
     "execution_count": 9,
     "metadata": {},
     "output_type": "execute_result"
    }
   ],
   "source": [
    "type(v)"
   ]
  },
  {
   "cell_type": "code",
   "execution_count": 10,
   "id": "841e9344",
   "metadata": {},
   "outputs": [
    {
     "data": {
      "text/plain": [
       "numpy.ndarray"
      ]
     },
     "execution_count": 10,
     "metadata": {},
     "output_type": "execute_result"
    }
   ],
   "source": [
    "type(m)"
   ]
  },
  {
   "cell_type": "code",
   "execution_count": 12,
   "id": "628c3405",
   "metadata": {},
   "outputs": [],
   "source": [
    "s_array = np.array(5)"
   ]
  },
  {
   "cell_type": "code",
   "execution_count": 13,
   "id": "4f5e22c1",
   "metadata": {},
   "outputs": [
    {
     "data": {
      "text/plain": [
       "numpy.ndarray"
      ]
     },
     "execution_count": 13,
     "metadata": {},
     "output_type": "execute_result"
    }
   ],
   "source": [
    "type(s_array)"
   ]
  },
  {
   "cell_type": "markdown",
   "id": "9496342d",
   "metadata": {},
   "source": [
    "### Data shapes"
   ]
  },
  {
   "cell_type": "code",
   "execution_count": 14,
   "id": "338aeb5a",
   "metadata": {},
   "outputs": [
    {
     "data": {
      "text/plain": [
       "(2, 3)"
      ]
     },
     "execution_count": 14,
     "metadata": {},
     "output_type": "execute_result"
    }
   ],
   "source": [
    "m.shape"
   ]
  },
  {
   "cell_type": "code",
   "execution_count": 15,
   "id": "6d27553e",
   "metadata": {},
   "outputs": [
    {
     "data": {
      "text/plain": [
       "(3,)"
      ]
     },
     "execution_count": 15,
     "metadata": {},
     "output_type": "execute_result"
    }
   ],
   "source": [
    "v.shape"
   ]
  },
  {
   "cell_type": "code",
   "execution_count": 18,
   "id": "619405aa",
   "metadata": {},
   "outputs": [
    {
     "data": {
      "text/plain": [
       "()"
      ]
     },
     "execution_count": 18,
     "metadata": {},
     "output_type": "execute_result"
    }
   ],
   "source": [
    "s_array.shape"
   ]
  },
  {
   "cell_type": "markdown",
   "id": "5a4fb5a0",
   "metadata": {},
   "source": [
    "### Creating a column vector"
   ]
  },
  {
   "cell_type": "code",
   "execution_count": 16,
   "id": "afe2a321",
   "metadata": {},
   "outputs": [
    {
     "data": {
      "text/plain": [
       "array([[10, -3,  7]])"
      ]
     },
     "execution_count": 16,
     "metadata": {},
     "output_type": "execute_result"
    }
   ],
   "source": [
    "v.reshape(1, 3)"
   ]
  },
  {
   "cell_type": "code",
   "execution_count": 17,
   "id": "5602e65c",
   "metadata": {},
   "outputs": [
    {
     "data": {
      "text/plain": [
       "array([[10],\n",
       "       [-3],\n",
       "       [ 7]])"
      ]
     },
     "execution_count": 17,
     "metadata": {},
     "output_type": "execute_result"
    }
   ],
   "source": [
    "v.reshape(3, 1)"
   ]
  },
  {
   "cell_type": "markdown",
   "id": "dfaf3736",
   "metadata": {},
   "source": [
    "### Creating a tensor"
   ]
  },
  {
   "cell_type": "code",
   "execution_count": 19,
   "id": "7d86e5ca",
   "metadata": {},
   "outputs": [
    {
     "data": {
      "text/plain": [
       "array([[  3,  43,  12],\n",
       "       [324,   3,   2]])"
      ]
     },
     "execution_count": 19,
     "metadata": {},
     "output_type": "execute_result"
    }
   ],
   "source": [
    "m1 = np.array([[3,43,12], [324,3,2]])\n",
    "m1"
   ]
  },
  {
   "cell_type": "code",
   "execution_count": 20,
   "id": "bd60dc29",
   "metadata": {},
   "outputs": [
    {
     "data": {
      "text/plain": [
       "array([[12, 34, 21],\n",
       "       [32, 43, 54]])"
      ]
     },
     "execution_count": 20,
     "metadata": {},
     "output_type": "execute_result"
    }
   ],
   "source": [
    "m2 = np.array([[12,34,21],[32,43,54]])\n",
    "m2"
   ]
  },
  {
   "cell_type": "code",
   "execution_count": 21,
   "id": "d9d94e9a",
   "metadata": {},
   "outputs": [
    {
     "data": {
      "text/plain": [
       "array([[[  3,  43,  12],\n",
       "        [324,   3,   2]],\n",
       "\n",
       "       [[ 12,  34,  21],\n",
       "        [ 32,  43,  54]]])"
      ]
     },
     "execution_count": 21,
     "metadata": {},
     "output_type": "execute_result"
    }
   ],
   "source": [
    "t = np.array([m1,m2])\n",
    "t"
   ]
  },
  {
   "cell_type": "markdown",
   "id": "8464c8f2",
   "metadata": {},
   "source": [
    "### Checking its shape"
   ]
  },
  {
   "cell_type": "code",
   "execution_count": 22,
   "id": "e6c9425b",
   "metadata": {},
   "outputs": [
    {
     "data": {
      "text/plain": [
       "(2, 2, 3)"
      ]
     },
     "execution_count": 22,
     "metadata": {},
     "output_type": "execute_result"
    }
   ],
   "source": [
    "t.shape"
   ]
  },
  {
   "cell_type": "markdown",
   "id": "8578fb42",
   "metadata": {},
   "source": [
    "### Manually creating a tensor"
   ]
  },
  {
   "cell_type": "code",
   "execution_count": 23,
   "id": "4af4a5e6",
   "metadata": {},
   "outputs": [],
   "source": [
    "t_manual = np.array([[[32,43,1],[32,54,-12]], [[2,43,1],[-2,0,7]]])"
   ]
  },
  {
   "cell_type": "code",
   "execution_count": 24,
   "id": "3c2798f7",
   "metadata": {},
   "outputs": [
    {
     "data": {
      "text/plain": [
       "array([[[ 32,  43,   1],\n",
       "        [ 32,  54, -12]],\n",
       "\n",
       "       [[  2,  43,   1],\n",
       "        [ -2,   0,   7]]])"
      ]
     },
     "execution_count": 24,
     "metadata": {},
     "output_type": "execute_result"
    }
   ],
   "source": [
    "t_manual"
   ]
  },
  {
   "cell_type": "markdown",
   "id": "f17676e2",
   "metadata": {},
   "source": [
    "### Addition"
   ]
  },
  {
   "cell_type": "code",
   "execution_count": 25,
   "id": "211a9495",
   "metadata": {},
   "outputs": [
    {
     "data": {
      "text/plain": [
       "array([[ 15,  77,  33],\n",
       "       [356,  46,  56]])"
      ]
     },
     "execution_count": 25,
     "metadata": {},
     "output_type": "execute_result"
    }
   ],
   "source": [
    "m1 + m2"
   ]
  },
  {
   "cell_type": "markdown",
   "id": "3246d7c4",
   "metadata": {},
   "source": [
    "### Difference"
   ]
  },
  {
   "cell_type": "code",
   "execution_count": 26,
   "id": "7afedb83",
   "metadata": {},
   "outputs": [
    {
     "data": {
      "text/plain": [
       "array([[ -9,   9,  -9],\n",
       "       [292, -40, -52]])"
      ]
     },
     "execution_count": 26,
     "metadata": {},
     "output_type": "execute_result"
    }
   ],
   "source": [
    "m1 - m2"
   ]
  },
  {
   "cell_type": "markdown",
   "id": "f585dc34",
   "metadata": {},
   "source": [
    "### Operating on Vectors"
   ]
  },
  {
   "cell_type": "code",
   "execution_count": 27,
   "id": "884fe54b",
   "metadata": {},
   "outputs": [],
   "source": [
    "v1 = np.array([1,2,3,4,5])"
   ]
  },
  {
   "cell_type": "code",
   "execution_count": 28,
   "id": "a803d7df",
   "metadata": {},
   "outputs": [],
   "source": [
    "v2 = np.array([6,7,8,9,0])"
   ]
  },
  {
   "cell_type": "code",
   "execution_count": 29,
   "id": "969b297e",
   "metadata": {},
   "outputs": [
    {
     "data": {
      "text/plain": [
       "array([ 7,  9, 11, 13,  5])"
      ]
     },
     "execution_count": 29,
     "metadata": {},
     "output_type": "execute_result"
    }
   ],
   "source": [
    "v1 + v2"
   ]
  },
  {
   "cell_type": "code",
   "execution_count": 30,
   "id": "80f82f43",
   "metadata": {},
   "outputs": [
    {
     "data": {
      "text/plain": [
       "array([-5, -5, -5, -5,  5])"
      ]
     },
     "execution_count": 30,
     "metadata": {},
     "output_type": "execute_result"
    }
   ],
   "source": [
    "v1 - v2"
   ]
  },
  {
   "cell_type": "markdown",
   "id": "3e3d1be8",
   "metadata": {},
   "source": [
    "### Operating on Scalars"
   ]
  },
  {
   "cell_type": "code",
   "execution_count": 31,
   "id": "1e4b3d8f",
   "metadata": {},
   "outputs": [
    {
     "data": {
      "text/plain": [
       "array([[  3,  43,  12],\n",
       "       [324,   3,   2]])"
      ]
     },
     "execution_count": 31,
     "metadata": {},
     "output_type": "execute_result"
    }
   ],
   "source": [
    "m1"
   ]
  },
  {
   "cell_type": "code",
   "execution_count": 32,
   "id": "298147ca",
   "metadata": {},
   "outputs": [
    {
     "data": {
      "text/plain": [
       "array([[  4,  44,  13],\n",
       "       [325,   4,   3]])"
      ]
     },
     "execution_count": 32,
     "metadata": {},
     "output_type": "execute_result"
    }
   ],
   "source": [
    "m1 + 1"
   ]
  },
  {
   "cell_type": "code",
   "execution_count": 33,
   "id": "5b4852e3",
   "metadata": {},
   "outputs": [
    {
     "data": {
      "text/plain": [
       "array([1, 2, 3, 4, 5])"
      ]
     },
     "execution_count": 33,
     "metadata": {},
     "output_type": "execute_result"
    }
   ],
   "source": [
    "v1 "
   ]
  },
  {
   "cell_type": "code",
   "execution_count": 34,
   "id": "c7a1c289",
   "metadata": {},
   "outputs": [
    {
     "data": {
      "text/plain": [
       "array([ 8,  9, 10, 11, 12])"
      ]
     },
     "execution_count": 34,
     "metadata": {},
     "output_type": "execute_result"
    }
   ],
   "source": [
    "v1 + 7"
   ]
  },
  {
   "cell_type": "markdown",
   "id": "1c377549",
   "metadata": {},
   "source": [
    "### Transposing matrices"
   ]
  },
  {
   "cell_type": "code",
   "execution_count": 36,
   "id": "47179780",
   "metadata": {},
   "outputs": [
    {
     "data": {
      "text/plain": [
       "array([[  3,  45, -23],\n",
       "       [ 32,  45,   7]])"
      ]
     },
     "execution_count": 36,
     "metadata": {},
     "output_type": "execute_result"
    }
   ],
   "source": [
    "A = np.array([[3,45,-23], [32,45,7]])\n",
    "A"
   ]
  },
  {
   "cell_type": "code",
   "execution_count": 37,
   "id": "289b0021",
   "metadata": {},
   "outputs": [
    {
     "data": {
      "text/plain": [
       "array([[  3,  32],\n",
       "       [ 45,  45],\n",
       "       [-23,   7]])"
      ]
     },
     "execution_count": 37,
     "metadata": {},
     "output_type": "execute_result"
    }
   ],
   "source": [
    "A.T"
   ]
  },
  {
   "cell_type": "code",
   "execution_count": 38,
   "id": "eb2801ef",
   "metadata": {},
   "outputs": [
    {
     "data": {
      "text/plain": [
       "array([[  3, 324],\n",
       "       [ 43,   3],\n",
       "       [ 12,   2]])"
      ]
     },
     "execution_count": 38,
     "metadata": {},
     "output_type": "execute_result"
    }
   ],
   "source": [
    "m1.T"
   ]
  },
  {
   "cell_type": "code",
   "execution_count": 39,
   "id": "55d356f2",
   "metadata": {},
   "outputs": [
    {
     "data": {
      "text/plain": [
       "array([[12, 32],\n",
       "       [34, 43],\n",
       "       [21, 54]])"
      ]
     },
     "execution_count": 39,
     "metadata": {},
     "output_type": "execute_result"
    }
   ],
   "source": [
    "m2.T"
   ]
  },
  {
   "cell_type": "markdown",
   "id": "779160cd",
   "metadata": {},
   "source": [
    "### Dot product"
   ]
  },
  {
   "cell_type": "code",
   "execution_count": 40,
   "id": "3b54818f",
   "metadata": {},
   "outputs": [],
   "source": [
    "x = np.array([3,4,5])\n",
    "y = np.array([5,6,7])"
   ]
  },
  {
   "cell_type": "code",
   "execution_count": 41,
   "id": "5370297e",
   "metadata": {},
   "outputs": [
    {
     "data": {
      "text/plain": [
       "74"
      ]
     },
     "execution_count": 41,
     "metadata": {},
     "output_type": "execute_result"
    }
   ],
   "source": [
    "np.dot(x,y)"
   ]
  },
  {
   "cell_type": "markdown",
   "id": "0d462b23",
   "metadata": {},
   "source": [
    "### Scalar * Scalar"
   ]
  },
  {
   "cell_type": "code",
   "execution_count": 42,
   "id": "4bc93d84",
   "metadata": {},
   "outputs": [
    {
     "data": {
      "text/plain": [
       "30"
      ]
     },
     "execution_count": 42,
     "metadata": {},
     "output_type": "execute_result"
    }
   ],
   "source": [
    "np.dot(5,6)"
   ]
  },
  {
   "cell_type": "code",
   "execution_count": 43,
   "id": "0dedf98b",
   "metadata": {},
   "outputs": [
    {
     "data": {
      "text/plain": [
       "-369"
      ]
     },
     "execution_count": 43,
     "metadata": {},
     "output_type": "execute_result"
    }
   ],
   "source": [
    "np.dot(123,-3)"
   ]
  },
  {
   "cell_type": "markdown",
   "id": "5857abbd",
   "metadata": {},
   "source": [
    "### Scalar * Vector"
   ]
  },
  {
   "cell_type": "code",
   "execution_count": 44,
   "id": "14569e90",
   "metadata": {},
   "outputs": [
    {
     "data": {
      "text/plain": [
       "array([3, 4, 5])"
      ]
     },
     "execution_count": 44,
     "metadata": {},
     "output_type": "execute_result"
    }
   ],
   "source": [
    "x"
   ]
  },
  {
   "cell_type": "code",
   "execution_count": 45,
   "id": "23da7acd",
   "metadata": {},
   "outputs": [
    {
     "data": {
      "text/plain": [
       "array([15, 20, 25])"
      ]
     },
     "execution_count": 45,
     "metadata": {},
     "output_type": "execute_result"
    }
   ],
   "source": [
    "5*x"
   ]
  },
  {
   "cell_type": "markdown",
   "id": "68524bac",
   "metadata": {},
   "source": [
    "### Scalar * Matrix"
   ]
  },
  {
   "cell_type": "code",
   "execution_count": 46,
   "id": "3a20f9ad",
   "metadata": {},
   "outputs": [
    {
     "data": {
      "text/plain": [
       "array([[ 5, 12,  6],\n",
       "       [-3,  0, 14]])"
      ]
     },
     "execution_count": 46,
     "metadata": {},
     "output_type": "execute_result"
    }
   ],
   "source": [
    "A = np.array([[5,12,6],[-3,0,14]])\n",
    "A"
   ]
  },
  {
   "cell_type": "code",
   "execution_count": 47,
   "id": "e0c33d84",
   "metadata": {},
   "outputs": [
    {
     "data": {
      "text/plain": [
       "array([[15, 36, 18],\n",
       "       [-9,  0, 42]])"
      ]
     },
     "execution_count": 47,
     "metadata": {},
     "output_type": "execute_result"
    }
   ],
   "source": [
    "3*A"
   ]
  },
  {
   "cell_type": "markdown",
   "id": "1dd26d85",
   "metadata": {},
   "source": [
    "### Matrix * Matrix"
   ]
  },
  {
   "cell_type": "code",
   "execution_count": 49,
   "id": "fca42be6",
   "metadata": {},
   "outputs": [],
   "source": [
    "# in order to make a dot product of matrix to matrix the second dimension of first matrix has to match the first dimension of second matrix\n",
    "# i.e m * n . n * k = m * k"
   ]
  },
  {
   "cell_type": "code",
   "execution_count": 50,
   "id": "dce5d07e",
   "metadata": {},
   "outputs": [
    {
     "data": {
      "text/plain": [
       "array([[ 2, -1],\n",
       "       [ 8,  0],\n",
       "       [ 3,  0]])"
      ]
     },
     "execution_count": 50,
     "metadata": {},
     "output_type": "execute_result"
    }
   ],
   "source": [
    "B = np.array([[2,-1], [8,0], [3,0]])\n",
    "B"
   ]
  },
  {
   "cell_type": "code",
   "execution_count": 51,
   "id": "2b40a971",
   "metadata": {},
   "outputs": [
    {
     "data": {
      "text/plain": [
       "array([[124,  -5],\n",
       "       [ 36,   3]])"
      ]
     },
     "execution_count": 51,
     "metadata": {},
     "output_type": "execute_result"
    }
   ],
   "source": [
    "np.dot(A,B)"
   ]
  },
  {
   "cell_type": "code",
   "execution_count": null,
   "id": "442dee26",
   "metadata": {},
   "outputs": [],
   "source": []
  }
 ],
 "metadata": {
  "kernelspec": {
   "display_name": "Python 3",
   "language": "python",
   "name": "python3"
  },
  "language_info": {
   "codemirror_mode": {
    "name": "ipython",
    "version": 3
   },
   "file_extension": ".py",
   "mimetype": "text/x-python",
   "name": "python",
   "nbconvert_exporter": "python",
   "pygments_lexer": "ipython3",
   "version": "3.8.8"
  }
 },
 "nbformat": 4,
 "nbformat_minor": 5
}
