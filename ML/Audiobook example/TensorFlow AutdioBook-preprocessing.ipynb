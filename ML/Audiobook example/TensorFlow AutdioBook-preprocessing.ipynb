{
 "cells": [
  {
   "cell_type": "markdown",
   "id": "9bd99d12",
   "metadata": {},
   "source": [
    "## AudioBooks example"
   ]
  },
  {
   "cell_type": "markdown",
   "id": "5d46530b",
   "metadata": {},
   "source": [
    "### Preprocessing the data"
   ]
  },
  {
   "cell_type": "markdown",
   "id": "50060336",
   "metadata": {},
   "source": [
    "#### Extract the data from the csv"
   ]
  },
  {
   "cell_type": "code",
   "execution_count": 5,
   "id": "dfcb3a53",
   "metadata": {},
   "outputs": [],
   "source": [
    "import numpy as np\n",
    "from sklearn import preprocessing\n",
    "\n",
    "raw_csv_data = np.loadtxt('Audiobooks_data.csv', delimiter= ',')\n",
    "\n",
    "unscaled_inputs_all = raw_csv_data[:,1:-1] # excluding id and targets first\n",
    "targets_all = raw_csv_data[:,-1]"
   ]
  },
  {
   "cell_type": "markdown",
   "id": "bc3c5256",
   "metadata": {},
   "source": [
    "#### Balance the dataset"
   ]
  },
  {
   "cell_type": "code",
   "execution_count": 14,
   "id": "9b80f754",
   "metadata": {},
   "outputs": [],
   "source": [
    "num_one_targets = int(np.sum(targets_all))\n",
    "zero_targets_counter = 0\n",
    "indices_to_remove = []\n",
    "                # it'll give us the lenght of the column\n",
    "for i in range (targets_all.shape[0]):\n",
    "    if targets_all[i] == 0:\n",
    "        zero_targets_counter += 1\n",
    "        if zero_targets_counter > num_one_targets:\n",
    "            indices_to_remove.append(i)\n",
    "            \n",
    "unscaled_inputs_equal_priors = np.delete(unscaled_inputs_all, indices_to_remove, axis= 0)\n",
    "targets_equal_priors = np.delete(targets_all, indices_to_remove, axis= 0)"
   ]
  },
  {
   "cell_type": "markdown",
   "id": "9e159881",
   "metadata": {},
   "source": [
    "#### Standardize the inputs"
   ]
  },
  {
   "cell_type": "code",
   "execution_count": 12,
   "id": "047eff20",
   "metadata": {},
   "outputs": [],
   "source": [
    "# preprocessing.scale(X) -> it is a method that standardizes an array along each variable\n",
    "scaled_inputs = preprocessing.scale(unscaled_inputs_equal_priors)"
   ]
  },
  {
   "cell_type": "markdown",
   "id": "22ac26d9",
   "metadata": {},
   "source": [
    "#### Shuffle the data"
   ]
  },
  {
   "cell_type": "code",
   "execution_count": 15,
   "id": "6c07548b",
   "metadata": {},
   "outputs": [],
   "source": [
    "shuffled_indices = np.arange(scaled_inputs.shape[0])\n",
    "np.random.shuffle(shuffled_indices)\n",
    "\n",
    "shuffled_inputs = scaled_inputs[shuffled_indices]\n",
    "shuffled_targets = targets_equal_priors[shuffled_indices]"
   ]
  },
  {
   "cell_type": "markdown",
   "id": "1d23837f",
   "metadata": {},
   "source": [
    "#### Split the dataset into train, validation and test"
   ]
  },
  {
   "cell_type": "code",
   "execution_count": 16,
   "id": "8df5fd8d",
   "metadata": {},
   "outputs": [
    {
     "name": "stdout",
     "output_type": "stream",
     "text": [
      "1777.0 3579 0.4965074043028779\n",
      "220.0 447 0.49217002237136465\n",
      "240.0 448 0.5357142857142857\n"
     ]
    }
   ],
   "source": [
    "samples_count = shuffled_inputs.shape[0]\n",
    "# 80-10-10 split for train-validate-test datasets\n",
    "train_samples_count = int(0.8*samples_count)\n",
    "validation_samples_count = int(0.1*samples_count)\n",
    "test_samples_count = samples_count - train_samples_count - validation_samples_count\n",
    "\n",
    "train_inputs = shuffled_inputs[:train_samples_count]\n",
    "train_targets = shuffled_targets[:train_samples_count]\n",
    "\n",
    "validation_inputs = shuffled_inputs[train_samples_count:train_samples_count+validation_samples_count]\n",
    "validation_targets = shuffled_targets[train_samples_count:train_samples_count+validation_samples_count]\n",
    "\n",
    "test_inputs = shuffled_inputs[train_samples_count+validation_samples_count:]\n",
    "test_targets = shuffled_targets[train_samples_count+validation_samples_count:]\n",
    "\n",
    "print(np.sum(train_targets), train_samples_count, np.sum(train_targets) / train_samples_count)\n",
    "print(np.sum(validation_targets), validation_samples_count, np.sum(validation_targets) / validation_samples_count)\n",
    "print(np.sum(test_targets), test_samples_count, np.sum(test_targets) / test_samples_count)"
   ]
  },
  {
   "cell_type": "markdown",
   "id": "796c4fd6",
   "metadata": {},
   "source": [
    "#### Save the tree datasets in .npz"
   ]
  },
  {
   "cell_type": "code",
   "execution_count": 17,
   "id": "c55e3ab3",
   "metadata": {},
   "outputs": [],
   "source": [
    "np.savez('Audiobooks_data_train', inputs=train_inputs, targets=train_targets)\n",
    "np.savez('Audiobooks_data_validation', inputs=validation_inputs, targets=validation_targets)\n",
    "np.savez('Audiobooks_data_test', inputs=test_inputs, targets=test_targets)"
   ]
  },
  {
   "cell_type": "code",
   "execution_count": null,
   "id": "4a160deb",
   "metadata": {},
   "outputs": [],
   "source": []
  }
 ],
 "metadata": {
  "kernelspec": {
   "display_name": "Python 3",
   "language": "python",
   "name": "python3"
  },
  "language_info": {
   "codemirror_mode": {
    "name": "ipython",
    "version": 3
   },
   "file_extension": ".py",
   "mimetype": "text/x-python",
   "name": "python",
   "nbconvert_exporter": "python",
   "pygments_lexer": "ipython3",
   "version": "3.8.8"
  }
 },
 "nbformat": 4,
 "nbformat_minor": 5
}
