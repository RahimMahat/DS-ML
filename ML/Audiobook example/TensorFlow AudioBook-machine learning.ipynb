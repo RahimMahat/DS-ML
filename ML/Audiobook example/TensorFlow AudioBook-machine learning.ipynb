{
 "cells": [
  {
   "cell_type": "markdown",
   "id": "35fdceb4",
   "metadata": {},
   "source": [
    "## Create the machine learning algorithm"
   ]
  },
  {
   "cell_type": "markdown",
   "id": "ff02fa4c",
   "metadata": {},
   "source": [
    "### Import the relevant libraries"
   ]
  },
  {
   "cell_type": "code",
   "execution_count": 1,
   "id": "6f9eae9a",
   "metadata": {},
   "outputs": [],
   "source": [
    "import numpy as np\n",
    "import tensorflow as tf"
   ]
  },
  {
   "cell_type": "markdown",
   "id": "06ebce9f",
   "metadata": {},
   "source": [
    "### Data"
   ]
  },
  {
   "cell_type": "code",
   "execution_count": 2,
   "id": "b4dc80a5",
   "metadata": {},
   "outputs": [],
   "source": [
    "npz = np.load('Audiobooks_data_train.npz')\n",
    "# extracting inputs and targets from the npz file\n",
    "# train data\n",
    "train_inputs = npz['inputs'].astype(np.float)\n",
    "train_targets = npz['targets'].astype(np.int)\n",
    "# validation data\n",
    "npz = np.load('Audiobooks_data_validation.npz')\n",
    "validation_inputs, validation_targets = npz['inputs'].astype(np.float), npz['targets'].astype(np.int)\n",
    "# test data\n",
    "npz = np.load('Audiobooks_data_test.npz')\n",
    "test_inputs, test_targets = npz['inputs'].astype(np.float), npz['targets'].astype(np.int)\n"
   ]
  },
  {
   "cell_type": "markdown",
   "id": "fd27dc30",
   "metadata": {},
   "source": [
    "### Model\n",
    "##### Outline, Optimizers, loss, early stopping and training"
   ]
  },
  {
   "cell_type": "code",
   "execution_count": 16,
   "id": "5e892fbf",
   "metadata": {},
   "outputs": [
    {
     "name": "stdout",
     "output_type": "stream",
     "text": [
      "Epoch 1/100\n",
      "36/36 - 0s - loss: 0.5460 - accuracy: 0.7795 - val_loss: 0.4331 - val_accuracy: 0.8456\n",
      "Epoch 2/100\n",
      "36/36 - 0s - loss: 0.3654 - accuracy: 0.8734 - val_loss: 0.3695 - val_accuracy: 0.8546\n",
      "Epoch 3/100\n",
      "36/36 - 0s - loss: 0.3178 - accuracy: 0.8838 - val_loss: 0.3565 - val_accuracy: 0.8568\n",
      "Epoch 4/100\n",
      "36/36 - 0s - loss: 0.2978 - accuracy: 0.8908 - val_loss: 0.3368 - val_accuracy: 0.8680\n",
      "Epoch 5/100\n",
      "36/36 - 0s - loss: 0.2845 - accuracy: 0.8949 - val_loss: 0.3248 - val_accuracy: 0.8702\n",
      "Epoch 6/100\n",
      "36/36 - 0s - loss: 0.2747 - accuracy: 0.9003 - val_loss: 0.3199 - val_accuracy: 0.8658\n",
      "Epoch 7/100\n",
      "36/36 - 0s - loss: 0.2676 - accuracy: 0.9014 - val_loss: 0.3105 - val_accuracy: 0.8725\n",
      "Epoch 8/100\n",
      "36/36 - 0s - loss: 0.2605 - accuracy: 0.9039 - val_loss: 0.3014 - val_accuracy: 0.8747\n",
      "Epoch 9/100\n",
      "36/36 - 0s - loss: 0.2549 - accuracy: 0.9064 - val_loss: 0.3018 - val_accuracy: 0.8747\n",
      "Epoch 10/100\n",
      "36/36 - 0s - loss: 0.2519 - accuracy: 0.9075 - val_loss: 0.2965 - val_accuracy: 0.8747\n",
      "Epoch 11/100\n",
      "36/36 - 0s - loss: 0.2481 - accuracy: 0.9095 - val_loss: 0.2909 - val_accuracy: 0.8747\n",
      "Epoch 12/100\n",
      "36/36 - 0s - loss: 0.2441 - accuracy: 0.9086 - val_loss: 0.2902 - val_accuracy: 0.8747\n",
      "Epoch 13/100\n",
      "36/36 - 0s - loss: 0.2420 - accuracy: 0.9114 - val_loss: 0.2783 - val_accuracy: 0.8770\n",
      "Epoch 14/100\n",
      "36/36 - 0s - loss: 0.2389 - accuracy: 0.9114 - val_loss: 0.2803 - val_accuracy: 0.8747\n",
      "Epoch 15/100\n",
      "36/36 - 0s - loss: 0.2395 - accuracy: 0.9111 - val_loss: 0.2767 - val_accuracy: 0.8837\n",
      "Epoch 16/100\n",
      "36/36 - 0s - loss: 0.2373 - accuracy: 0.9128 - val_loss: 0.2773 - val_accuracy: 0.8837\n",
      "Epoch 17/100\n",
      "36/36 - 0s - loss: 0.2356 - accuracy: 0.9151 - val_loss: 0.2729 - val_accuracy: 0.8814\n",
      "Epoch 18/100\n",
      "36/36 - 0s - loss: 0.2338 - accuracy: 0.9153 - val_loss: 0.2776 - val_accuracy: 0.8792\n",
      "Epoch 19/100\n",
      "36/36 - 0s - loss: 0.2325 - accuracy: 0.9139 - val_loss: 0.2697 - val_accuracy: 0.8837\n",
      "Epoch 20/100\n",
      "36/36 - 0s - loss: 0.2310 - accuracy: 0.9165 - val_loss: 0.2754 - val_accuracy: 0.8814\n",
      "Epoch 21/100\n",
      "36/36 - 0s - loss: 0.2310 - accuracy: 0.9162 - val_loss: 0.2739 - val_accuracy: 0.8904\n"
     ]
    },
    {
     "data": {
      "text/plain": [
       "<keras.callbacks.History at 0x192acd8f820>"
      ]
     },
     "execution_count": 16,
     "metadata": {},
     "output_type": "execute_result"
    }
   ],
   "source": [
    "input_size = 10\n",
    "output_size = 2\n",
    "hidden_layer_size = 50\n",
    "\n",
    "model = tf.keras.Sequential([\n",
    "    tf.keras.layers.Dense(hidden_layer_size, activation='relu'),\n",
    "    tf.keras.layers.Dense(hidden_layer_size, activation='relu'),\n",
    "    tf.keras.layers.Dense(output_size, activation='softmax')\n",
    "])\n",
    "\n",
    "model.compile(optimizer='adam', loss='sparse_categorical_crossentropy', metrics=['accuracy'])\n",
    "\n",
    "batch_size = 100\n",
    "max_epochs = 100\n",
    "# we are employing early stopping to avoid overfitting\n",
    "# this object weill monitor the validation loss and stop the training process the first time the validation loss starts increasing\n",
    "early_stopping = tf.keras.callbacks.EarlyStopping(patience=2)\n",
    "\n",
    "model.fit(train_inputs, train_targets,\n",
    "          batch_size, epochs=max_epochs,\n",
    "          callbacks=[early_stopping],\n",
    "          validation_data=(validation_inputs, validation_targets),\n",
    "          verbose=2\n",
    "         )"
   ]
  },
  {
   "cell_type": "markdown",
   "id": "f947b042",
   "metadata": {},
   "source": [
    "### Test the model"
   ]
  },
  {
   "cell_type": "code",
   "execution_count": 17,
   "id": "a37d8d10",
   "metadata": {},
   "outputs": [
    {
     "name": "stdout",
     "output_type": "stream",
     "text": [
      "14/14 [==============================] - 0s 2ms/step - loss: 0.2400 - accuracy: 0.8973\n"
     ]
    }
   ],
   "source": [
    "test_loss, test_accuracy = model.evaluate(test_inputs, test_targets)"
   ]
  },
  {
   "cell_type": "code",
   "execution_count": 18,
   "id": "10355615",
   "metadata": {},
   "outputs": [
    {
     "name": "stdout",
     "output_type": "stream",
     "text": [
      "Test loss: 0.24. Test accuracy: 89.73%\n"
     ]
    }
   ],
   "source": [
    "print(f'Test loss: {test_loss:.2f}. Test accuracy: {test_accuracy*100:.2f}%')"
   ]
  }
 ],
 "metadata": {
  "kernelspec": {
   "display_name": "Python 3",
   "language": "python",
   "name": "python3"
  },
  "language_info": {
   "codemirror_mode": {
    "name": "ipython",
    "version": 3
   },
   "file_extension": ".py",
   "mimetype": "text/x-python",
   "name": "python",
   "nbconvert_exporter": "python",
   "pygments_lexer": "ipython3",
   "version": "3.8.8"
  }
 },
 "nbformat": 4,
 "nbformat_minor": 5
}
